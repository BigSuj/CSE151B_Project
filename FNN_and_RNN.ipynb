{
 "cells": [
  {
   "cell_type": "code",
   "execution_count": 7,
   "id": "883fcbf2",
   "metadata": {},
   "outputs": [
    {
     "name": "stdout",
     "output_type": "stream",
     "text": [
      "  % Total    % Received % Xferd  Average Speed   Time    Time     Time  Current\n",
      "                                 Dload  Upload   Total   Spent    Left  Speed\n",
      "100    17    0    17    0     0     58      0 --:--:-- --:--:-- --:--:--    58\n",
      "100   340  100   340    0     0    401      0 --:--:-- --:--:-- --:--:--   401\n",
      "100   534    0   534    0     0    408      0 --:--:--  0:00:01 --:--:--  2311\n",
      "100  515M  100  515M    0     0  86.0M      0  0:00:05  0:00:05 --:--:--  121M\n",
      "Archive:  kaggle-download.zip\n",
      "replace kaggle_data/metaData_taxistandsID_name_GPSlocation.csv? [y]es, [n]o, [A]ll, [N]one, [r]ename: ^C\n"
     ]
    }
   ],
   "source": [
    "# !curl -L https://www.dropbox.com/s/rndzndlgpw3coiq/kaggle-download.zip -o kaggle-download.zip\n",
    "# !unzip kaggle-download.zip -d kaggle_data\n"
   ]
  },
  {
   "cell_type": "code",
   "execution_count": null,
   "id": "aeacd864",
   "metadata": {},
   "outputs": [],
   "source": []
  },
  {
   "cell_type": "code",
   "execution_count": null,
   "id": "aecca4c5",
   "metadata": {},
   "outputs": [],
   "source": []
  },
  {
   "cell_type": "code",
   "execution_count": 1,
   "id": "bbcf1bbb",
   "metadata": {},
   "outputs": [],
   "source": [
    "import pandas as pd\n",
    "from datetime import datetime\n",
    "import torch\n"
   ]
  },
  {
   "cell_type": "code",
   "execution_count": 2,
   "id": "a6ce2deb",
   "metadata": {
    "scrolled": true
   },
   "outputs": [
    {
     "name": "stdout",
     "output_type": "stream",
     "text": [
      "Requirement already satisfied: torch in /opt/conda/lib/python3.9/site-packages (1.9.0+cu111)\n",
      "Collecting torch\n",
      "  Using cached torch-2.0.1-cp39-cp39-manylinux1_x86_64.whl (619.9 MB)\n",
      "Requirement already satisfied: torchvision in /opt/conda/lib/python3.9/site-packages (0.10.0+cu111)\n",
      "Collecting torchvision\n",
      "  Using cached torchvision-0.15.2-cp39-cp39-manylinux1_x86_64.whl (6.0 MB)\n",
      "Collecting nvidia-curand-cu11==10.2.10.91\n",
      "  Using cached nvidia_curand_cu11-10.2.10.91-py3-none-manylinux1_x86_64.whl (54.6 MB)\n",
      "Collecting nvidia-nccl-cu11==2.14.3\n",
      "  Using cached nvidia_nccl_cu11-2.14.3-py3-none-manylinux1_x86_64.whl (177.1 MB)\n",
      "Requirement already satisfied: networkx in /opt/conda/lib/python3.9/site-packages (from torch) (2.5)\n",
      "Requirement already satisfied: sympy in /opt/conda/lib/python3.9/site-packages (from torch) (1.8)\n",
      "Collecting nvidia-cudnn-cu11==8.5.0.96\n",
      "  Using cached nvidia_cudnn_cu11-8.5.0.96-2-py3-none-manylinux1_x86_64.whl (557.1 MB)\n",
      "Collecting nvidia-cufft-cu11==10.9.0.58\n",
      "  Using cached nvidia_cufft_cu11-10.9.0.58-py3-none-manylinux1_x86_64.whl (168.4 MB)\n",
      "Collecting nvidia-cusolver-cu11==11.4.0.1\n",
      "  Using cached nvidia_cusolver_cu11-11.4.0.1-2-py3-none-manylinux1_x86_64.whl (102.6 MB)\n",
      "Collecting nvidia-cuda-nvrtc-cu11==11.7.99\n",
      "  Using cached nvidia_cuda_nvrtc_cu11-11.7.99-2-py3-none-manylinux1_x86_64.whl (21.0 MB)\n",
      "Collecting nvidia-cuda-runtime-cu11==11.7.99\n",
      "  Using cached nvidia_cuda_runtime_cu11-11.7.99-py3-none-manylinux1_x86_64.whl (849 kB)\n",
      "Collecting nvidia-cusparse-cu11==11.7.4.91\n",
      "  Using cached nvidia_cusparse_cu11-11.7.4.91-py3-none-manylinux1_x86_64.whl (173.2 MB)\n",
      "Requirement already satisfied: typing-extensions in /opt/conda/lib/python3.9/site-packages (from torch) (4.5.0)\n",
      "Collecting filelock\n",
      "  Using cached filelock-3.12.0-py3-none-any.whl (10 kB)\n",
      "Requirement already satisfied: jinja2 in /opt/conda/lib/python3.9/site-packages (from torch) (3.0.1)\n",
      "Collecting triton==2.0.0\n",
      "  Using cached triton-2.0.0-1-cp39-cp39-manylinux2014_x86_64.manylinux_2_17_x86_64.whl (63.3 MB)\n",
      "Collecting nvidia-nvtx-cu11==11.7.91\n",
      "  Using cached nvidia_nvtx_cu11-11.7.91-py3-none-manylinux1_x86_64.whl (98 kB)\n",
      "Collecting nvidia-cuda-cupti-cu11==11.7.101\n",
      "  Using cached nvidia_cuda_cupti_cu11-11.7.101-py3-none-manylinux1_x86_64.whl (11.8 MB)\n",
      "Collecting nvidia-cublas-cu11==11.10.3.66\n",
      "  Using cached nvidia_cublas_cu11-11.10.3.66-py3-none-manylinux1_x86_64.whl (317.1 MB)\n",
      "Requirement already satisfied: setuptools in /opt/conda/lib/python3.9/site-packages (from nvidia-cublas-cu11==11.10.3.66->torch) (49.6.0.post20210108)\n",
      "Requirement already satisfied: wheel in /opt/conda/lib/python3.9/site-packages (from nvidia-cublas-cu11==11.10.3.66->torch) (0.36.2)\n",
      "Collecting cmake\n",
      "  Using cached cmake-3.26.4-py2.py3-none-manylinux2014_x86_64.manylinux_2_17_x86_64.whl (24.0 MB)\n",
      "Collecting lit\n",
      "  Using cached lit-16.0.5.post0-py3-none-any.whl\n",
      "Collecting pillow!=8.3.*,>=5.3.0\n",
      "  Using cached Pillow-9.5.0-cp39-cp39-manylinux_2_28_x86_64.whl (3.4 MB)\n",
      "Requirement already satisfied: requests in /opt/conda/lib/python3.9/site-packages (from torchvision) (2.26.0)\n",
      "Requirement already satisfied: numpy in /opt/conda/lib/python3.9/site-packages (from torchvision) (1.22.4)\n",
      "Requirement already satisfied: MarkupSafe>=2.0 in /opt/conda/lib/python3.9/site-packages (from jinja2->torch) (2.1.2)\n",
      "Requirement already satisfied: decorator>=4.3.0 in /opt/conda/lib/python3.9/site-packages (from networkx->torch) (5.0.9)\n",
      "Requirement already satisfied: urllib3<1.27,>=1.21.1 in /opt/conda/lib/python3.9/site-packages (from requests->torchvision) (1.26.6)\n",
      "Requirement already satisfied: charset-normalizer~=2.0.0 in /opt/conda/lib/python3.9/site-packages (from requests->torchvision) (2.0.0)\n",
      "Requirement already satisfied: certifi>=2017.4.17 in /opt/conda/lib/python3.9/site-packages (from requests->torchvision) (2023.5.7)\n",
      "Requirement already satisfied: idna<4,>=2.5 in /opt/conda/lib/python3.9/site-packages (from requests->torchvision) (3.1)\n",
      "Requirement already satisfied: mpmath>=0.19 in /opt/conda/lib/python3.9/site-packages (from sympy->torch) (1.2.1)\n",
      "Installing collected packages: nvidia-cublas-cu11, lit, filelock, cmake, triton, nvidia-nvtx-cu11, nvidia-nccl-cu11, nvidia-cusparse-cu11, nvidia-cusolver-cu11, nvidia-curand-cu11, nvidia-cufft-cu11, nvidia-cudnn-cu11, nvidia-cuda-runtime-cu11, nvidia-cuda-nvrtc-cu11, nvidia-cuda-cupti-cu11, torch, pillow, torchvision\n",
      "  Attempting uninstall: nvidia-cublas-cu11\n",
      "    Found existing installation: nvidia-cublas-cu11 11.11.3.6\n",
      "    Uninstalling nvidia-cublas-cu11-11.11.3.6:\n",
      "\u001b[31mERROR: Could not install packages due to an OSError: [Errno 13] Permission denied: '/opt/conda/lib/python3.9/site-packages/nvidia/__init__.py'\n",
      "Consider using the `--user` option or check the permissions.\n",
      "\u001b[0m\n"
     ]
    }
   ],
   "source": [
    "!pip install --upgrade torch torchvision"
   ]
  },
  {
   "cell_type": "markdown",
   "id": "04a06fc0",
   "metadata": {},
   "source": [
    "# DATA STUFF\n",
    "\n",
    "'A’ if this trip was dispatched from the central\n",
    "\n",
    "‘B’ if this trip was demanded directly to a taxi driver on a specific stand\n",
    "\n",
    "‘C’ otherwise (i.e. a trip demanded on a random street)"
   ]
  },
  {
   "cell_type": "code",
   "execution_count": 88,
   "id": "4351f6a3",
   "metadata": {},
   "outputs": [
    {
     "data": {
      "text/html": [
       "<div>\n",
       "<style scoped>\n",
       "    .dataframe tbody tr th:only-of-type {\n",
       "        vertical-align: middle;\n",
       "    }\n",
       "\n",
       "    .dataframe tbody tr th {\n",
       "        vertical-align: top;\n",
       "    }\n",
       "\n",
       "    .dataframe thead th {\n",
       "        text-align: right;\n",
       "    }\n",
       "</style>\n",
       "<table border=\"1\" class=\"dataframe\">\n",
       "  <thead>\n",
       "    <tr style=\"text-align: right;\">\n",
       "      <th></th>\n",
       "      <th>TRIP_ID</th>\n",
       "      <th>CALL_TYPE</th>\n",
       "      <th>ORIGIN_CALL</th>\n",
       "      <th>ORIGIN_STAND</th>\n",
       "      <th>TAXI_ID</th>\n",
       "      <th>TIMESTAMP</th>\n",
       "      <th>DAY_TYPE</th>\n",
       "      <th>MISSING_DATA</th>\n",
       "      <th>POLYLINE</th>\n",
       "      <th>ELAPSED</th>\n",
       "    </tr>\n",
       "  </thead>\n",
       "  <tbody>\n",
       "    <tr>\n",
       "      <th>0</th>\n",
       "      <td>1372636858620000589</td>\n",
       "      <td>C</td>\n",
       "      <td>NaN</td>\n",
       "      <td>NaN</td>\n",
       "      <td>20000589</td>\n",
       "      <td>1372636858</td>\n",
       "      <td>A</td>\n",
       "      <td>False</td>\n",
       "      <td>[[-8.618643,41.141412],[-8.618499,41.141376],[...</td>\n",
       "      <td>345</td>\n",
       "    </tr>\n",
       "    <tr>\n",
       "      <th>1</th>\n",
       "      <td>1372637303620000596</td>\n",
       "      <td>B</td>\n",
       "      <td>NaN</td>\n",
       "      <td>7.0</td>\n",
       "      <td>20000596</td>\n",
       "      <td>1372637303</td>\n",
       "      <td>A</td>\n",
       "      <td>False</td>\n",
       "      <td>[[-8.639847,41.159826],[-8.640351,41.159871],[...</td>\n",
       "      <td>285</td>\n",
       "    </tr>\n",
       "    <tr>\n",
       "      <th>2</th>\n",
       "      <td>1372636951620000320</td>\n",
       "      <td>C</td>\n",
       "      <td>NaN</td>\n",
       "      <td>NaN</td>\n",
       "      <td>20000320</td>\n",
       "      <td>1372636951</td>\n",
       "      <td>A</td>\n",
       "      <td>False</td>\n",
       "      <td>[[-8.612964,41.140359],[-8.613378,41.14035],[-...</td>\n",
       "      <td>975</td>\n",
       "    </tr>\n",
       "    <tr>\n",
       "      <th>3</th>\n",
       "      <td>1372636854620000520</td>\n",
       "      <td>C</td>\n",
       "      <td>NaN</td>\n",
       "      <td>NaN</td>\n",
       "      <td>20000520</td>\n",
       "      <td>1372636854</td>\n",
       "      <td>A</td>\n",
       "      <td>False</td>\n",
       "      <td>[[-8.574678,41.151951],[-8.574705,41.151942],[...</td>\n",
       "      <td>645</td>\n",
       "    </tr>\n",
       "    <tr>\n",
       "      <th>4</th>\n",
       "      <td>1372637091620000337</td>\n",
       "      <td>C</td>\n",
       "      <td>NaN</td>\n",
       "      <td>NaN</td>\n",
       "      <td>20000337</td>\n",
       "      <td>1372637091</td>\n",
       "      <td>A</td>\n",
       "      <td>False</td>\n",
       "      <td>[[-8.645994,41.18049],[-8.645949,41.180517],[-...</td>\n",
       "      <td>435</td>\n",
       "    </tr>\n",
       "  </tbody>\n",
       "</table>\n",
       "</div>"
      ],
      "text/plain": [
       "               TRIP_ID CALL_TYPE  ORIGIN_CALL  ORIGIN_STAND   TAXI_ID  \\\n",
       "0  1372636858620000589         C          NaN           NaN  20000589   \n",
       "1  1372637303620000596         B          NaN           7.0  20000596   \n",
       "2  1372636951620000320         C          NaN           NaN  20000320   \n",
       "3  1372636854620000520         C          NaN           NaN  20000520   \n",
       "4  1372637091620000337         C          NaN           NaN  20000337   \n",
       "\n",
       "    TIMESTAMP DAY_TYPE  MISSING_DATA  \\\n",
       "0  1372636858        A         False   \n",
       "1  1372637303        A         False   \n",
       "2  1372636951        A         False   \n",
       "3  1372636854        A         False   \n",
       "4  1372637091        A         False   \n",
       "\n",
       "                                            POLYLINE  ELAPSED  \n",
       "0  [[-8.618643,41.141412],[-8.618499,41.141376],[...      345  \n",
       "1  [[-8.639847,41.159826],[-8.640351,41.159871],[...      285  \n",
       "2  [[-8.612964,41.140359],[-8.613378,41.14035],[-...      975  \n",
       "3  [[-8.574678,41.151951],[-8.574705,41.151942],[...      645  \n",
       "4  [[-8.645994,41.18049],[-8.645949,41.180517],[-...      435  "
      ]
     },
     "execution_count": 88,
     "metadata": {},
     "output_type": "execute_result"
    }
   ],
   "source": [
    "train = pd.read_csv('kaggle_data/train.csv')\n",
    "train['ELAPSED'] = train['POLYLINE'].apply(lambda x: max(len(x.split('[')) - 2, 0) * 15)\n",
    "train.head()"
   ]
  },
  {
   "cell_type": "code",
   "execution_count": 89,
   "id": "a6bf7eaa",
   "metadata": {},
   "outputs": [
    {
     "data": {
      "text/html": [
       "<div>\n",
       "<style scoped>\n",
       "    .dataframe tbody tr th:only-of-type {\n",
       "        vertical-align: middle;\n",
       "    }\n",
       "\n",
       "    .dataframe tbody tr th {\n",
       "        vertical-align: top;\n",
       "    }\n",
       "\n",
       "    .dataframe thead th {\n",
       "        text-align: right;\n",
       "    }\n",
       "</style>\n",
       "<table border=\"1\" class=\"dataframe\">\n",
       "  <thead>\n",
       "    <tr style=\"text-align: right;\">\n",
       "      <th></th>\n",
       "      <th>TRIP_ID</th>\n",
       "      <th>CALL_TYPE</th>\n",
       "      <th>ORIGIN_CALL</th>\n",
       "      <th>ORIGIN_STAND</th>\n",
       "      <th>TAXI_ID</th>\n",
       "      <th>TIMESTAMP</th>\n",
       "      <th>DAY_TYPE</th>\n",
       "      <th>MISSING_DATA</th>\n",
       "    </tr>\n",
       "  </thead>\n",
       "  <tbody>\n",
       "    <tr>\n",
       "      <th>0</th>\n",
       "      <td>T1</td>\n",
       "      <td>B</td>\n",
       "      <td>NaN</td>\n",
       "      <td>15.0</td>\n",
       "      <td>20000542</td>\n",
       "      <td>1408039037</td>\n",
       "      <td>A</td>\n",
       "      <td>False</td>\n",
       "    </tr>\n",
       "    <tr>\n",
       "      <th>1</th>\n",
       "      <td>T2</td>\n",
       "      <td>B</td>\n",
       "      <td>NaN</td>\n",
       "      <td>57.0</td>\n",
       "      <td>20000108</td>\n",
       "      <td>1408038611</td>\n",
       "      <td>A</td>\n",
       "      <td>False</td>\n",
       "    </tr>\n",
       "    <tr>\n",
       "      <th>2</th>\n",
       "      <td>T3</td>\n",
       "      <td>B</td>\n",
       "      <td>NaN</td>\n",
       "      <td>15.0</td>\n",
       "      <td>20000370</td>\n",
       "      <td>1408038568</td>\n",
       "      <td>A</td>\n",
       "      <td>False</td>\n",
       "    </tr>\n",
       "    <tr>\n",
       "      <th>3</th>\n",
       "      <td>T4</td>\n",
       "      <td>B</td>\n",
       "      <td>NaN</td>\n",
       "      <td>53.0</td>\n",
       "      <td>20000492</td>\n",
       "      <td>1408039090</td>\n",
       "      <td>A</td>\n",
       "      <td>False</td>\n",
       "    </tr>\n",
       "    <tr>\n",
       "      <th>4</th>\n",
       "      <td>T5</td>\n",
       "      <td>B</td>\n",
       "      <td>NaN</td>\n",
       "      <td>18.0</td>\n",
       "      <td>20000621</td>\n",
       "      <td>1408039177</td>\n",
       "      <td>A</td>\n",
       "      <td>False</td>\n",
       "    </tr>\n",
       "  </tbody>\n",
       "</table>\n",
       "</div>"
      ],
      "text/plain": [
       "  TRIP_ID CALL_TYPE  ORIGIN_CALL  ORIGIN_STAND   TAXI_ID   TIMESTAMP DAY_TYPE  \\\n",
       "0      T1         B          NaN          15.0  20000542  1408039037        A   \n",
       "1      T2         B          NaN          57.0  20000108  1408038611        A   \n",
       "2      T3         B          NaN          15.0  20000370  1408038568        A   \n",
       "3      T4         B          NaN          53.0  20000492  1408039090        A   \n",
       "4      T5         B          NaN          18.0  20000621  1408039177        A   \n",
       "\n",
       "   MISSING_DATA  \n",
       "0         False  \n",
       "1         False  \n",
       "2         False  \n",
       "3         False  \n",
       "4         False  "
      ]
     },
     "execution_count": 89,
     "metadata": {},
     "output_type": "execute_result"
    }
   ],
   "source": [
    "test = pd.read_csv('kaggle_data/test_public.csv')\n",
    "test.head()"
   ]
  },
  {
   "cell_type": "code",
   "execution_count": 90,
   "id": "886b7c03",
   "metadata": {},
   "outputs": [],
   "source": [
    "call_A = train[train['CALL_TYPE'] == 'A']\n",
    "call_B = train[train['CALL_TYPE'] == 'B']\n",
    "call_C = train[train['CALL_TYPE'] == 'C']\n",
    "\n",
    "call_C = call_C.sample(frac=.70) #.39\n",
    "\n",
    "call_B = call_B.sample(frac=.40) #.38\n",
    "\n",
    "call_A = call_A.sample(frac=.60) #.23\n",
    "\n",
    "\n",
    "new_train = pd.concat([call_A, call_B, call_C], ignore_index=True)\n",
    "\n",
    "train = new_train[(new_train['ELAPSED'] > 300) | (new_train['ELAPSED'] < 185)]"
   ]
  },
  {
   "cell_type": "code",
   "execution_count": 91,
   "id": "7e3243c3",
   "metadata": {},
   "outputs": [
    {
     "data": {
      "text/html": [
       "<div>\n",
       "<style scoped>\n",
       "    .dataframe tbody tr th:only-of-type {\n",
       "        vertical-align: middle;\n",
       "    }\n",
       "\n",
       "    .dataframe tbody tr th {\n",
       "        vertical-align: top;\n",
       "    }\n",
       "\n",
       "    .dataframe thead th {\n",
       "        text-align: right;\n",
       "    }\n",
       "</style>\n",
       "<table border=\"1\" class=\"dataframe\">\n",
       "  <thead>\n",
       "    <tr style=\"text-align: right;\">\n",
       "      <th></th>\n",
       "      <th>TRIP_ID</th>\n",
       "      <th>ORIGIN_CALL</th>\n",
       "      <th>ORIGIN_STAND</th>\n",
       "      <th>TAXI_ID</th>\n",
       "      <th>TIMESTAMP</th>\n",
       "      <th>DAY_TYPE</th>\n",
       "      <th>MISSING_DATA</th>\n",
       "      <th>POLYLINE</th>\n",
       "      <th>ELAPSED</th>\n",
       "    </tr>\n",
       "    <tr>\n",
       "      <th>CALL_TYPE</th>\n",
       "      <th></th>\n",
       "      <th></th>\n",
       "      <th></th>\n",
       "      <th></th>\n",
       "      <th></th>\n",
       "      <th></th>\n",
       "      <th></th>\n",
       "      <th></th>\n",
       "      <th></th>\n",
       "    </tr>\n",
       "  </thead>\n",
       "  <tbody>\n",
       "    <tr>\n",
       "      <th>A</th>\n",
       "      <td>205650</td>\n",
       "      <td>205650</td>\n",
       "      <td>0</td>\n",
       "      <td>205650</td>\n",
       "      <td>205650</td>\n",
       "      <td>205650</td>\n",
       "      <td>205650</td>\n",
       "      <td>205650</td>\n",
       "      <td>205650</td>\n",
       "    </tr>\n",
       "    <tr>\n",
       "      <th>B</th>\n",
       "      <td>300614</td>\n",
       "      <td>0</td>\n",
       "      <td>296345</td>\n",
       "      <td>300614</td>\n",
       "      <td>300614</td>\n",
       "      <td>300614</td>\n",
       "      <td>300614</td>\n",
       "      <td>300614</td>\n",
       "      <td>300614</td>\n",
       "    </tr>\n",
       "    <tr>\n",
       "      <th>C</th>\n",
       "      <td>340717</td>\n",
       "      <td>0</td>\n",
       "      <td>0</td>\n",
       "      <td>340717</td>\n",
       "      <td>340717</td>\n",
       "      <td>340717</td>\n",
       "      <td>340717</td>\n",
       "      <td>340717</td>\n",
       "      <td>340717</td>\n",
       "    </tr>\n",
       "  </tbody>\n",
       "</table>\n",
       "</div>"
      ],
      "text/plain": [
       "           TRIP_ID  ORIGIN_CALL  ORIGIN_STAND  TAXI_ID  TIMESTAMP  DAY_TYPE  \\\n",
       "CALL_TYPE                                                                     \n",
       "A           205650       205650             0   205650     205650    205650   \n",
       "B           300614            0        296345   300614     300614    300614   \n",
       "C           340717            0             0   340717     340717    340717   \n",
       "\n",
       "           MISSING_DATA  POLYLINE  ELAPSED  \n",
       "CALL_TYPE                                   \n",
       "A                205650    205650   205650  \n",
       "B                300614    300614   300614  \n",
       "C                340717    340717   340717  "
      ]
     },
     "execution_count": 91,
     "metadata": {},
     "output_type": "execute_result"
    }
   ],
   "source": [
    "train.groupby('CALL_TYPE').count()"
   ]
  },
  {
   "cell_type": "markdown",
   "id": "12e6cce6",
   "metadata": {},
   "source": [
    "If you have call type A, you have origin call\n",
    "If you have call type B, you have origin stand\n",
    "If you have call type C, you have neither"
   ]
  },
  {
   "cell_type": "code",
   "execution_count": 92,
   "id": "f522b41c",
   "metadata": {},
   "outputs": [
    {
     "name": "stderr",
     "output_type": "stream",
     "text": [
      "/tmp/ipykernel_114/1803232759.py:8: SettingWithCopyWarning: \n",
      "A value is trying to be set on a copy of a slice from a DataFrame.\n",
      "Try using .loc[row_indexer,col_indexer] = value instead\n",
      "\n",
      "See the caveats in the documentation: https://pandas.pydata.org/pandas-docs/stable/user_guide/indexing.html#returning-a-view-versus-a-copy\n",
      "  train[[\"YR\", \"MON\", \"DAY\", \"HR\", \"WK\"]] = train[[\"TIMESTAMP\"]].apply(parse_time, axis=1, result_type=\"expand\")\n",
      "/tmp/ipykernel_114/1803232759.py:8: SettingWithCopyWarning: \n",
      "A value is trying to be set on a copy of a slice from a DataFrame.\n",
      "Try using .loc[row_indexer,col_indexer] = value instead\n",
      "\n",
      "See the caveats in the documentation: https://pandas.pydata.org/pandas-docs/stable/user_guide/indexing.html#returning-a-view-versus-a-copy\n",
      "  train[[\"YR\", \"MON\", \"DAY\", \"HR\", \"WK\"]] = train[[\"TIMESTAMP\"]].apply(parse_time, axis=1, result_type=\"expand\")\n",
      "/tmp/ipykernel_114/1803232759.py:8: SettingWithCopyWarning: \n",
      "A value is trying to be set on a copy of a slice from a DataFrame.\n",
      "Try using .loc[row_indexer,col_indexer] = value instead\n",
      "\n",
      "See the caveats in the documentation: https://pandas.pydata.org/pandas-docs/stable/user_guide/indexing.html#returning-a-view-versus-a-copy\n",
      "  train[[\"YR\", \"MON\", \"DAY\", \"HR\", \"WK\"]] = train[[\"TIMESTAMP\"]].apply(parse_time, axis=1, result_type=\"expand\")\n",
      "/tmp/ipykernel_114/1803232759.py:8: SettingWithCopyWarning: \n",
      "A value is trying to be set on a copy of a slice from a DataFrame.\n",
      "Try using .loc[row_indexer,col_indexer] = value instead\n",
      "\n",
      "See the caveats in the documentation: https://pandas.pydata.org/pandas-docs/stable/user_guide/indexing.html#returning-a-view-versus-a-copy\n",
      "  train[[\"YR\", \"MON\", \"DAY\", \"HR\", \"WK\"]] = train[[\"TIMESTAMP\"]].apply(parse_time, axis=1, result_type=\"expand\")\n",
      "/tmp/ipykernel_114/1803232759.py:8: SettingWithCopyWarning: \n",
      "A value is trying to be set on a copy of a slice from a DataFrame.\n",
      "Try using .loc[row_indexer,col_indexer] = value instead\n",
      "\n",
      "See the caveats in the documentation: https://pandas.pydata.org/pandas-docs/stable/user_guide/indexing.html#returning-a-view-versus-a-copy\n",
      "  train[[\"YR\", \"MON\", \"DAY\", \"HR\", \"WK\"]] = train[[\"TIMESTAMP\"]].apply(parse_time, axis=1, result_type=\"expand\")\n"
     ]
    },
    {
     "data": {
      "text/html": [
       "<div>\n",
       "<style scoped>\n",
       "    .dataframe tbody tr th:only-of-type {\n",
       "        vertical-align: middle;\n",
       "    }\n",
       "\n",
       "    .dataframe tbody tr th {\n",
       "        vertical-align: top;\n",
       "    }\n",
       "\n",
       "    .dataframe thead th {\n",
       "        text-align: right;\n",
       "    }\n",
       "</style>\n",
       "<table border=\"1\" class=\"dataframe\">\n",
       "  <thead>\n",
       "    <tr style=\"text-align: right;\">\n",
       "      <th></th>\n",
       "      <th>TRIP_ID</th>\n",
       "      <th>CALL_TYPE</th>\n",
       "      <th>ORIGIN_CALL</th>\n",
       "      <th>ORIGIN_STAND</th>\n",
       "      <th>TAXI_ID</th>\n",
       "      <th>TIMESTAMP</th>\n",
       "      <th>DAY_TYPE</th>\n",
       "      <th>MISSING_DATA</th>\n",
       "      <th>POLYLINE</th>\n",
       "      <th>ELAPSED</th>\n",
       "      <th>YR</th>\n",
       "      <th>MON</th>\n",
       "      <th>DAY</th>\n",
       "      <th>HR</th>\n",
       "      <th>WK</th>\n",
       "    </tr>\n",
       "  </thead>\n",
       "  <tbody>\n",
       "    <tr>\n",
       "      <th>0</th>\n",
       "      <td>1398699006620000384</td>\n",
       "      <td>A</td>\n",
       "      <td>17486.0</td>\n",
       "      <td>NaN</td>\n",
       "      <td>20000384</td>\n",
       "      <td>1398699006</td>\n",
       "      <td>A</td>\n",
       "      <td>False</td>\n",
       "      <td>[[-8.680392,41.161527],[-8.680878,41.161365],[...</td>\n",
       "      <td>945</td>\n",
       "      <td>2014</td>\n",
       "      <td>4</td>\n",
       "      <td>28</td>\n",
       "      <td>15</td>\n",
       "      <td>0</td>\n",
       "    </tr>\n",
       "    <tr>\n",
       "      <th>1</th>\n",
       "      <td>1399573780620000326</td>\n",
       "      <td>A</td>\n",
       "      <td>58241.0</td>\n",
       "      <td>NaN</td>\n",
       "      <td>20000326</td>\n",
       "      <td>1399573780</td>\n",
       "      <td>A</td>\n",
       "      <td>False</td>\n",
       "      <td>[[-8.62173,41.16753],[-8.621757,41.167557],[-8...</td>\n",
       "      <td>675</td>\n",
       "      <td>2014</td>\n",
       "      <td>5</td>\n",
       "      <td>8</td>\n",
       "      <td>18</td>\n",
       "      <td>3</td>\n",
       "    </tr>\n",
       "    <tr>\n",
       "      <th>2</th>\n",
       "      <td>1388465848620000013</td>\n",
       "      <td>A</td>\n",
       "      <td>57461.0</td>\n",
       "      <td>NaN</td>\n",
       "      <td>20000013</td>\n",
       "      <td>1388465848</td>\n",
       "      <td>A</td>\n",
       "      <td>False</td>\n",
       "      <td>[[-8.610318,41.185485],[-8.610327,41.185512],[...</td>\n",
       "      <td>1170</td>\n",
       "      <td>2013</td>\n",
       "      <td>12</td>\n",
       "      <td>31</td>\n",
       "      <td>4</td>\n",
       "      <td>1</td>\n",
       "    </tr>\n",
       "    <tr>\n",
       "      <th>3</th>\n",
       "      <td>1387384363620000344</td>\n",
       "      <td>A</td>\n",
       "      <td>6656.0</td>\n",
       "      <td>NaN</td>\n",
       "      <td>20000344</td>\n",
       "      <td>1387384363</td>\n",
       "      <td>A</td>\n",
       "      <td>False</td>\n",
       "      <td>[[-8.611497,41.142231],[-8.611632,41.142591],[...</td>\n",
       "      <td>675</td>\n",
       "      <td>2013</td>\n",
       "      <td>12</td>\n",
       "      <td>18</td>\n",
       "      <td>16</td>\n",
       "      <td>2</td>\n",
       "    </tr>\n",
       "    <tr>\n",
       "      <th>4</th>\n",
       "      <td>1380035560620000005</td>\n",
       "      <td>A</td>\n",
       "      <td>56506.0</td>\n",
       "      <td>NaN</td>\n",
       "      <td>20000005</td>\n",
       "      <td>1380035560</td>\n",
       "      <td>A</td>\n",
       "      <td>False</td>\n",
       "      <td>[[-8.624484,41.159961],[-8.624511,41.159961],[...</td>\n",
       "      <td>765</td>\n",
       "      <td>2013</td>\n",
       "      <td>9</td>\n",
       "      <td>24</td>\n",
       "      <td>15</td>\n",
       "      <td>1</td>\n",
       "    </tr>\n",
       "  </tbody>\n",
       "</table>\n",
       "</div>"
      ],
      "text/plain": [
       "               TRIP_ID CALL_TYPE  ORIGIN_CALL  ORIGIN_STAND   TAXI_ID  \\\n",
       "0  1398699006620000384         A      17486.0           NaN  20000384   \n",
       "1  1399573780620000326         A      58241.0           NaN  20000326   \n",
       "2  1388465848620000013         A      57461.0           NaN  20000013   \n",
       "3  1387384363620000344         A       6656.0           NaN  20000344   \n",
       "4  1380035560620000005         A      56506.0           NaN  20000005   \n",
       "\n",
       "    TIMESTAMP DAY_TYPE  MISSING_DATA  \\\n",
       "0  1398699006        A         False   \n",
       "1  1399573780        A         False   \n",
       "2  1388465848        A         False   \n",
       "3  1387384363        A         False   \n",
       "4  1380035560        A         False   \n",
       "\n",
       "                                            POLYLINE  ELAPSED    YR  MON  DAY  \\\n",
       "0  [[-8.680392,41.161527],[-8.680878,41.161365],[...      945  2014    4   28   \n",
       "1  [[-8.62173,41.16753],[-8.621757,41.167557],[-8...      675  2014    5    8   \n",
       "2  [[-8.610318,41.185485],[-8.610327,41.185512],[...     1170  2013   12   31   \n",
       "3  [[-8.611497,41.142231],[-8.611632,41.142591],[...      675  2013   12   18   \n",
       "4  [[-8.624484,41.159961],[-8.624511,41.159961],[...      765  2013    9   24   \n",
       "\n",
       "   HR  WK  \n",
       "0  15   0  \n",
       "1  18   3  \n",
       "2   4   1  \n",
       "3  16   2  \n",
       "4  15   1  "
      ]
     },
     "execution_count": 92,
     "metadata": {},
     "output_type": "execute_result"
    }
   ],
   "source": [
    "def parse_time(x):\n",
    "  # We are using python's builtin datetime library\n",
    "  dt = datetime.fromtimestamp(x[\"TIMESTAMP\"])\n",
    "  return dt.year, dt.month, dt.day, dt.hour, dt.weekday()\n",
    "\n",
    "# Because we are assigning multiple values at a time, we need to \"expand\" our computed (year, month, day, hour, weekday) tuples on \n",
    "\n",
    "train[[\"YR\", \"MON\", \"DAY\", \"HR\", \"WK\"]] = train[[\"TIMESTAMP\"]].apply(parse_time, axis=1, result_type=\"expand\")\n",
    "train.head()"
   ]
  },
  {
   "cell_type": "code",
   "execution_count": 93,
   "id": "729f0b30",
   "metadata": {},
   "outputs": [
    {
     "data": {
      "text/plain": [
       "4    137746\n",
       "5    129955\n",
       "3    121433\n",
       "6    116223\n",
       "1    115311\n",
       "2    114071\n",
       "0    112242\n",
       "Name: WK, dtype: int64"
      ]
     },
     "execution_count": 93,
     "metadata": {},
     "output_type": "execute_result"
    }
   ],
   "source": [
    "train['WK'].value_counts()"
   ]
  },
  {
   "cell_type": "code",
   "execution_count": 94,
   "id": "dba451a3",
   "metadata": {},
   "outputs": [
    {
     "data": {
      "text/html": [
       "<div>\n",
       "<style scoped>\n",
       "    .dataframe tbody tr th:only-of-type {\n",
       "        vertical-align: middle;\n",
       "    }\n",
       "\n",
       "    .dataframe tbody tr th {\n",
       "        vertical-align: top;\n",
       "    }\n",
       "\n",
       "    .dataframe thead th {\n",
       "        text-align: right;\n",
       "    }\n",
       "</style>\n",
       "<table border=\"1\" class=\"dataframe\">\n",
       "  <thead>\n",
       "    <tr style=\"text-align: right;\">\n",
       "      <th></th>\n",
       "      <th>TRIP_ID</th>\n",
       "      <th>CALL_TYPE</th>\n",
       "      <th>ORIGIN_CALL</th>\n",
       "      <th>ORIGIN_STAND</th>\n",
       "      <th>TAXI_ID</th>\n",
       "      <th>TIMESTAMP</th>\n",
       "      <th>DAY_TYPE</th>\n",
       "      <th>MISSING_DATA</th>\n",
       "      <th>POLYLINE</th>\n",
       "      <th>ELAPSED</th>\n",
       "      <th>YR</th>\n",
       "      <th>MON</th>\n",
       "      <th>DAY</th>\n",
       "      <th>HR</th>\n",
       "      <th>WK</th>\n",
       "      <th>CALL_TYPE_B</th>\n",
       "      <th>CALL_TYPE_C</th>\n",
       "    </tr>\n",
       "  </thead>\n",
       "  <tbody>\n",
       "    <tr>\n",
       "      <th>0</th>\n",
       "      <td>1.398699e+18</td>\n",
       "      <td>A</td>\n",
       "      <td>17486.0</td>\n",
       "      <td>NaN</td>\n",
       "      <td>20000384.0</td>\n",
       "      <td>1.398699e+09</td>\n",
       "      <td>A</td>\n",
       "      <td>False</td>\n",
       "      <td>[[-8.680392,41.161527],[-8.680878,41.161365],[...</td>\n",
       "      <td>945.0</td>\n",
       "      <td>2014.0</td>\n",
       "      <td>4.0</td>\n",
       "      <td>28.0</td>\n",
       "      <td>15.0</td>\n",
       "      <td>0.0</td>\n",
       "      <td>0.0</td>\n",
       "      <td>0.0</td>\n",
       "    </tr>\n",
       "    <tr>\n",
       "      <th>1</th>\n",
       "      <td>1.399574e+18</td>\n",
       "      <td>A</td>\n",
       "      <td>58241.0</td>\n",
       "      <td>NaN</td>\n",
       "      <td>20000326.0</td>\n",
       "      <td>1.399574e+09</td>\n",
       "      <td>A</td>\n",
       "      <td>False</td>\n",
       "      <td>[[-8.62173,41.16753],[-8.621757,41.167557],[-8...</td>\n",
       "      <td>675.0</td>\n",
       "      <td>2014.0</td>\n",
       "      <td>5.0</td>\n",
       "      <td>8.0</td>\n",
       "      <td>18.0</td>\n",
       "      <td>3.0</td>\n",
       "      <td>0.0</td>\n",
       "      <td>0.0</td>\n",
       "    </tr>\n",
       "    <tr>\n",
       "      <th>2</th>\n",
       "      <td>1.388466e+18</td>\n",
       "      <td>A</td>\n",
       "      <td>57461.0</td>\n",
       "      <td>NaN</td>\n",
       "      <td>20000013.0</td>\n",
       "      <td>1.388466e+09</td>\n",
       "      <td>A</td>\n",
       "      <td>False</td>\n",
       "      <td>[[-8.610318,41.185485],[-8.610327,41.185512],[...</td>\n",
       "      <td>1170.0</td>\n",
       "      <td>2013.0</td>\n",
       "      <td>12.0</td>\n",
       "      <td>31.0</td>\n",
       "      <td>4.0</td>\n",
       "      <td>1.0</td>\n",
       "      <td>0.0</td>\n",
       "      <td>0.0</td>\n",
       "    </tr>\n",
       "    <tr>\n",
       "      <th>3</th>\n",
       "      <td>1.387384e+18</td>\n",
       "      <td>A</td>\n",
       "      <td>6656.0</td>\n",
       "      <td>NaN</td>\n",
       "      <td>20000344.0</td>\n",
       "      <td>1.387384e+09</td>\n",
       "      <td>A</td>\n",
       "      <td>False</td>\n",
       "      <td>[[-8.611497,41.142231],[-8.611632,41.142591],[...</td>\n",
       "      <td>675.0</td>\n",
       "      <td>2013.0</td>\n",
       "      <td>12.0</td>\n",
       "      <td>18.0</td>\n",
       "      <td>16.0</td>\n",
       "      <td>2.0</td>\n",
       "      <td>0.0</td>\n",
       "      <td>0.0</td>\n",
       "    </tr>\n",
       "    <tr>\n",
       "      <th>4</th>\n",
       "      <td>1.380036e+18</td>\n",
       "      <td>A</td>\n",
       "      <td>56506.0</td>\n",
       "      <td>NaN</td>\n",
       "      <td>20000005.0</td>\n",
       "      <td>1.380036e+09</td>\n",
       "      <td>A</td>\n",
       "      <td>False</td>\n",
       "      <td>[[-8.624484,41.159961],[-8.624511,41.159961],[...</td>\n",
       "      <td>765.0</td>\n",
       "      <td>2013.0</td>\n",
       "      <td>9.0</td>\n",
       "      <td>24.0</td>\n",
       "      <td>15.0</td>\n",
       "      <td>1.0</td>\n",
       "      <td>0.0</td>\n",
       "      <td>0.0</td>\n",
       "    </tr>\n",
       "  </tbody>\n",
       "</table>\n",
       "</div>"
      ],
      "text/plain": [
       "        TRIP_ID CALL_TYPE  ORIGIN_CALL  ORIGIN_STAND     TAXI_ID  \\\n",
       "0  1.398699e+18         A      17486.0           NaN  20000384.0   \n",
       "1  1.399574e+18         A      58241.0           NaN  20000326.0   \n",
       "2  1.388466e+18         A      57461.0           NaN  20000013.0   \n",
       "3  1.387384e+18         A       6656.0           NaN  20000344.0   \n",
       "4  1.380036e+18         A      56506.0           NaN  20000005.0   \n",
       "\n",
       "      TIMESTAMP DAY_TYPE MISSING_DATA  \\\n",
       "0  1.398699e+09        A        False   \n",
       "1  1.399574e+09        A        False   \n",
       "2  1.388466e+09        A        False   \n",
       "3  1.387384e+09        A        False   \n",
       "4  1.380036e+09        A        False   \n",
       "\n",
       "                                            POLYLINE  ELAPSED      YR   MON  \\\n",
       "0  [[-8.680392,41.161527],[-8.680878,41.161365],[...    945.0  2014.0   4.0   \n",
       "1  [[-8.62173,41.16753],[-8.621757,41.167557],[-8...    675.0  2014.0   5.0   \n",
       "2  [[-8.610318,41.185485],[-8.610327,41.185512],[...   1170.0  2013.0  12.0   \n",
       "3  [[-8.611497,41.142231],[-8.611632,41.142591],[...    675.0  2013.0  12.0   \n",
       "4  [[-8.624484,41.159961],[-8.624511,41.159961],[...    765.0  2013.0   9.0   \n",
       "\n",
       "    DAY    HR   WK  CALL_TYPE_B  CALL_TYPE_C  \n",
       "0  28.0  15.0  0.0          0.0          0.0  \n",
       "1   8.0  18.0  3.0          0.0          0.0  \n",
       "2  31.0   4.0  1.0          0.0          0.0  \n",
       "3  18.0  16.0  2.0          0.0          0.0  \n",
       "4  24.0  15.0  1.0          0.0          0.0  "
      ]
     },
     "execution_count": 94,
     "metadata": {},
     "output_type": "execute_result"
    }
   ],
   "source": [
    "from sklearn.preprocessing import OneHotEncoder\n",
    "\n",
    "encoder = OneHotEncoder(sparse=False, drop='first')\n",
    "encoded_data = encoder.fit_transform(train[['CALL_TYPE']])\n",
    "column_names = encoder.get_feature_names(['CALL_TYPE'])\n",
    "train_oh = pd.concat([train, pd.DataFrame(encoded_data, columns=column_names)], axis=1)\n",
    "\n",
    "train_oh.head()"
   ]
  },
  {
   "cell_type": "code",
   "execution_count": 95,
   "id": "4d8481df",
   "metadata": {},
   "outputs": [
    {
     "data": {
      "text/plain": [
       "ORIGIN_STAND\n",
       "62.0    470.334728\n",
       "48.0    535.000000\n",
       "8.0     608.684211\n",
       "26.0    610.850216\n",
       "28.0    625.569073\n",
       "           ...    \n",
       "45.0    812.209738\n",
       "15.0    823.409393\n",
       "39.0    826.096892\n",
       "22.0    876.629630\n",
       "59.0    913.571429\n",
       "Name: ELAPSED, Length: 63, dtype: float64"
      ]
     },
     "execution_count": 95,
     "metadata": {},
     "output_type": "execute_result"
    }
   ],
   "source": [
    "train_oh.groupby('ORIGIN_STAND')['ELAPSED'].mean().sort_values()"
   ]
  },
  {
   "cell_type": "code",
   "execution_count": 96,
   "id": "0a672c26",
   "metadata": {},
   "outputs": [
    {
     "data": {
      "text/html": [
       "<div>\n",
       "<style scoped>\n",
       "    .dataframe tbody tr th:only-of-type {\n",
       "        vertical-align: middle;\n",
       "    }\n",
       "\n",
       "    .dataframe tbody tr th {\n",
       "        vertical-align: top;\n",
       "    }\n",
       "\n",
       "    .dataframe thead th {\n",
       "        text-align: right;\n",
       "    }\n",
       "</style>\n",
       "<table border=\"1\" class=\"dataframe\">\n",
       "  <thead>\n",
       "    <tr style=\"text-align: right;\">\n",
       "      <th></th>\n",
       "      <th>CALL_TYPE_B</th>\n",
       "      <th>CALL_TYPE_C</th>\n",
       "      <th>ORIGIN_STAND</th>\n",
       "      <th>MON</th>\n",
       "      <th>DAY</th>\n",
       "      <th>WK</th>\n",
       "      <th>HR</th>\n",
       "      <th>ELAPSED</th>\n",
       "    </tr>\n",
       "  </thead>\n",
       "  <tbody>\n",
       "    <tr>\n",
       "      <th>0</th>\n",
       "      <td>0.0</td>\n",
       "      <td>0.0</td>\n",
       "      <td>-1.0</td>\n",
       "      <td>4.0</td>\n",
       "      <td>28.0</td>\n",
       "      <td>0.0</td>\n",
       "      <td>15.0</td>\n",
       "      <td>945.0</td>\n",
       "    </tr>\n",
       "    <tr>\n",
       "      <th>1</th>\n",
       "      <td>0.0</td>\n",
       "      <td>0.0</td>\n",
       "      <td>-1.0</td>\n",
       "      <td>5.0</td>\n",
       "      <td>8.0</td>\n",
       "      <td>3.0</td>\n",
       "      <td>18.0</td>\n",
       "      <td>675.0</td>\n",
       "    </tr>\n",
       "    <tr>\n",
       "      <th>2</th>\n",
       "      <td>0.0</td>\n",
       "      <td>0.0</td>\n",
       "      <td>-1.0</td>\n",
       "      <td>12.0</td>\n",
       "      <td>31.0</td>\n",
       "      <td>1.0</td>\n",
       "      <td>4.0</td>\n",
       "      <td>1170.0</td>\n",
       "    </tr>\n",
       "    <tr>\n",
       "      <th>3</th>\n",
       "      <td>0.0</td>\n",
       "      <td>0.0</td>\n",
       "      <td>-1.0</td>\n",
       "      <td>12.0</td>\n",
       "      <td>18.0</td>\n",
       "      <td>2.0</td>\n",
       "      <td>16.0</td>\n",
       "      <td>675.0</td>\n",
       "    </tr>\n",
       "    <tr>\n",
       "      <th>4</th>\n",
       "      <td>0.0</td>\n",
       "      <td>0.0</td>\n",
       "      <td>-1.0</td>\n",
       "      <td>9.0</td>\n",
       "      <td>24.0</td>\n",
       "      <td>1.0</td>\n",
       "      <td>15.0</td>\n",
       "      <td>765.0</td>\n",
       "    </tr>\n",
       "  </tbody>\n",
       "</table>\n",
       "</div>"
      ],
      "text/plain": [
       "   CALL_TYPE_B  CALL_TYPE_C  ORIGIN_STAND   MON   DAY   WK    HR  ELAPSED\n",
       "0          0.0          0.0          -1.0   4.0  28.0  0.0  15.0    945.0\n",
       "1          0.0          0.0          -1.0   5.0   8.0  3.0  18.0    675.0\n",
       "2          0.0          0.0          -1.0  12.0  31.0  1.0   4.0   1170.0\n",
       "3          0.0          0.0          -1.0  12.0  18.0  2.0  16.0    675.0\n",
       "4          0.0          0.0          -1.0   9.0  24.0  1.0  15.0    765.0"
      ]
     },
     "execution_count": 96,
     "metadata": {},
     "output_type": "execute_result"
    }
   ],
   "source": [
    "# train_ftrs = train_oh[['ORIGIN_CALL', 'ORIGIN_STAND',  'CALL_TYPE_B', 'CALL_TYPE_C', 'YR', 'MON', 'DAY', 'HR', 'WK', 'ELAPSED']].fillna(-1)\n",
    "train_ftrs = train_oh[['CALL_TYPE_B', 'CALL_TYPE_C', 'ORIGIN_STAND', 'MON', 'DAY', 'WK', 'HR', 'ELAPSED']].fillna(-1)\n",
    "\n",
    "train_ftrs.head()"
   ]
  },
  {
   "cell_type": "code",
   "execution_count": 97,
   "id": "83eab076",
   "metadata": {},
   "outputs": [
    {
     "data": {
      "text/plain": [
       "CALL_TYPE_B     float64\n",
       "CALL_TYPE_C     float64\n",
       "ORIGIN_STAND    float64\n",
       "MON             float64\n",
       "DAY             float64\n",
       "WK              float64\n",
       "HR              float64\n",
       "ELAPSED         float64\n",
       "dtype: object"
      ]
     },
     "execution_count": 97,
     "metadata": {},
     "output_type": "execute_result"
    }
   ],
   "source": [
    "train_ftrs.dtypes"
   ]
  },
  {
   "cell_type": "markdown",
   "id": "f74b8569",
   "metadata": {},
   "source": [
    "# Model"
   ]
  },
  {
   "cell_type": "code",
   "execution_count": 98,
   "id": "ceeb36fa",
   "metadata": {},
   "outputs": [],
   "source": [
    "import torch\n",
    "from tqdm import tqdm\n",
    "import torch.nn as nn\n",
    "import torch.optim as optim\n"
   ]
  },
  {
   "cell_type": "code",
   "execution_count": 99,
   "id": "d66ca9ec",
   "metadata": {},
   "outputs": [
    {
     "data": {
      "text/plain": [
       "device(type='cuda')"
      ]
     },
     "execution_count": 99,
     "metadata": {},
     "output_type": "execute_result"
    }
   ],
   "source": [
    "torch.cuda.empty_cache()\n",
    "device = torch.device(\"cuda\" if torch.cuda.is_available() else \"cpu\")\n",
    "# device = torch.device('cpu')\n",
    "device"
   ]
  },
  {
   "cell_type": "code",
   "execution_count": 100,
   "id": "2513874a",
   "metadata": {},
   "outputs": [],
   "source": [
    "from sklearn.model_selection import train_test_split\n",
    "\n",
    "bs = 64\n",
    "\n",
    "X = train_ftrs.drop(columns='ELAPSED')\n",
    "y = train_ftrs['ELAPSED']\n",
    "X_train, X_val, y_train, y_val = train_test_split(X, y, test_size=0.2)\n",
    "\n",
    "num_ftrs = X_train.shape[1]\n",
    "\n",
    "train_tn = torch.tensor(X_train.values, dtype=torch.float32).view(len(X_train), 1, num_ftrs).to(device)\n",
    "exp_tn = torch.tensor(y_train.values, dtype=torch.float32).to(device)\n",
    "\n",
    "val_tn = torch.tensor(X_val.values, dtype=torch.float32).view(len(X_val), 1, num_ftrs).to(device)\n",
    "val_exp_tn = torch.tensor(y_val.values, dtype=torch.float32).to(device)\n",
    "\n",
    "input_data = list(zip(train_tn, exp_tn))\n",
    "input_data[0]\n",
    "\n",
    "val_data = list(zip(val_tn, val_exp_tn))\n",
    "\n",
    "trainloader = torch.utils.data.DataLoader(input_data, batch_size=bs)\n",
    "valloader = torch.utils.data.DataLoader(val_data, batch_size=bs)"
   ]
  },
  {
   "cell_type": "code",
   "execution_count": 101,
   "id": "91aa5aa3",
   "metadata": {},
   "outputs": [],
   "source": [
    "class RNNModel(nn.Module):\n",
    "    def __init__(self, input_size, hidden_size, output_size):\n",
    "        super(RNNModel, self).__init__()\n",
    "        self.hidden_size = hidden_size\n",
    "        self.rnn = nn.RNN(input_size, hidden_size, batch_first=True)\n",
    "        self.fc = nn.Linear(hidden_size, 1)\n",
    "    \n",
    "    def forward(self, x):\n",
    "        # Initialize hidden state with zeros\n",
    "        batch_size = x.size(0)\n",
    "        hidden = self.init_hidden(batch_size)\n",
    "\n",
    "        # Pass the input sequence through the RNN layer\n",
    "        out, hidden = self.rnn(x, hidden)\n",
    "\n",
    "        # Reshape the output to match the linear layer's input shape\n",
    "        out = out.contiguous().view(-1, self.hidden_size)\n",
    "\n",
    "        # Pass the output through the linear layer\n",
    "        out = self.fc(out)\n",
    "\n",
    "        return out\n",
    "\n",
    "    def init_hidden(self, batch_size):\n",
    "        # Initialize hidden state with zeros\n",
    "        hidden = torch.zeros(1, batch_size, self.hidden_size).to(device)\n",
    "        return hidden\n"
   ]
  },
  {
   "cell_type": "code",
   "execution_count": 102,
   "id": "f18331e9",
   "metadata": {},
   "outputs": [],
   "source": [
    "class FNN(nn.Module):\n",
    "    def __init__(self, input_size, hidden_size, output_size, dropout_rate=0.2, reg_lambda=0.001):\n",
    "        super(FNN, self).__init__()\n",
    "\n",
    "        self.fc1 = nn.Linear(input_size, hidden_size)\n",
    "        self.bn1 = nn.BatchNorm1d(hidden_size)\n",
    "        self.fc2 = nn.Linear(hidden_size, hidden_size)\n",
    "        self.bn2 = nn.BatchNorm1d(hidden_size)\n",
    "        self.fc3 = nn.Linear(hidden_size, hidden_size)\n",
    "        self.bn3 = nn.BatchNorm1d(hidden_size)\n",
    "        self.fc4 = nn.Linear(hidden_size, output_size)\n",
    "        self.dropout = nn.Dropout(dropout_rate)\n",
    "        self.regularizer = nn.L1Loss()\n",
    "\n",
    "        self.reg_lambda = reg_lambda\n",
    "\n",
    "    def forward(self, x):\n",
    "        x = self.fc1(x)\n",
    "        x = self.bn1(x.transpose(1, 2)).transpose(1, 2)\n",
    "        x = torch.relu(x)\n",
    "        x = self.dropout(x)\n",
    "\n",
    "        x = self.fc2(x)\n",
    "        x = self.bn2(x.transpose(1, 2)).transpose(1, 2)\n",
    "        x = torch.relu(x)\n",
    "        x = self.dropout(x)\n",
    "\n",
    "        x = self.fc3(x)\n",
    "        x = self.bn3(x.transpose(1, 2)).transpose(1, 2)\n",
    "        x = torch.relu(x)\n",
    "        x = self.dropout(x)\n",
    "\n",
    "        x = self.fc4(x)\n",
    "\n",
    "        return x\n",
    "\n",
    "\n",
    "\n"
   ]
  },
  {
   "cell_type": "code",
   "execution_count": null,
   "id": "81b26493",
   "metadata": {},
   "outputs": [],
   "source": []
  },
  {
   "cell_type": "code",
   "execution_count": 103,
   "id": "86cdff4d",
   "metadata": {},
   "outputs": [],
   "source": [
    "# Define hyperparameters\n",
    "input_size = num_ftrs  # number of features\n",
    "hidden_size = input_size  # play around with and test \n",
    "output_size = 1  # dimension of output which is 1 elapsed time \n",
    "\n",
    "# model instatiation\n",
    "# model = RNNModel(input_size, hidden_size, output_size).to(device)\n",
    "model = FNN(input_size, hidden_size, output_size).to(device)\n",
    "\n",
    "# Define the loss function and optimizer\n",
    "mse = nn.MSELoss()\n",
    "criterion = nn.SmoothL1Loss()\n",
    "\n",
    "optimizer_adam = optim.Adam(model.parameters(), lr=0.0001)\n",
    "# optimizer_sgd = optim.SGD(model.parameters(), lr=0.0001)"
   ]
  },
  {
   "cell_type": "code",
   "execution_count": 104,
   "id": "ab86632e",
   "metadata": {},
   "outputs": [
    {
     "name": "stderr",
     "output_type": "stream",
     "text": [
      "2023-06-08 22:14:39.048574: I tensorflow/core/common_runtime/gpu/gpu_device.cc:1635] Created device /device:GPU:0 with 9627 MB memory:  -> device: 0, name: GeForce GTX 1080 Ti, pci bus id: 0000:89:00.0, compute capability: 6.1\n"
     ]
    },
    {
     "data": {
      "text/plain": [
       "'/device:GPU:0'"
      ]
     },
     "execution_count": 104,
     "metadata": {},
     "output_type": "execute_result"
    }
   ],
   "source": [
    "import tensorflow as tf\n",
    "tf.test.gpu_device_name()"
   ]
  },
  {
   "cell_type": "code",
   "execution_count": 105,
   "id": "1474bd1d",
   "metadata": {},
   "outputs": [
    {
     "name": "stderr",
     "output_type": "stream",
     "text": [
      "  0%|          | 0/15 [00:00<?, ?it/s]/opt/conda/lib/python3.9/site-packages/torch/nn/modules/loss.py:528: UserWarning: Using a target size (torch.Size([64])) that is different to the input size (torch.Size([64, 1, 1])). This will likely lead to incorrect results due to broadcasting. Please ensure they have the same size.\n",
      "  return F.mse_loss(input, target, reduction=self.reduction)\n",
      "/opt/conda/lib/python3.9/site-packages/torch/nn/modules/loss.py:528: UserWarning: Using a target size (torch.Size([6])) that is different to the input size (torch.Size([6, 1, 1])). This will likely lead to incorrect results due to broadcasting. Please ensure they have the same size.\n",
      "  return F.mse_loss(input, target, reduction=self.reduction)\n",
      "/opt/conda/lib/python3.9/site-packages/torch/nn/modules/loss.py:528: UserWarning: Using a target size (torch.Size([34])) that is different to the input size (torch.Size([34, 1, 1])). This will likely lead to incorrect results due to broadcasting. Please ensure they have the same size.\n",
      "  return F.mse_loss(input, target, reduction=self.reduction)\n",
      "  7%|▋         | 1/15 [00:45<10:36, 45.50s/it]"
     ]
    },
    {
     "name": "stdout",
     "output_type": "stream",
     "text": [
      "Epoch: 1, Training Loss: 622.7626953125, Validation Loss: 873.2701416015625\n"
     ]
    },
    {
     "name": "stderr",
     "output_type": "stream",
     "text": [
      " 13%|█▎        | 2/15 [01:34<10:19, 47.62s/it]"
     ]
    },
    {
     "name": "stdout",
     "output_type": "stream",
     "text": [
      "Epoch: 2, Training Loss: 584.6320190429688, Validation Loss: 844.1522216796875\n"
     ]
    },
    {
     "name": "stderr",
     "output_type": "stream",
     "text": [
      " 20%|██        | 3/15 [02:20<09:23, 46.94s/it]"
     ]
    },
    {
     "name": "stdout",
     "output_type": "stream",
     "text": [
      "Epoch: 3, Training Loss: 525.6112670898438, Validation Loss: 795.217041015625\n"
     ]
    },
    {
     "name": "stderr",
     "output_type": "stream",
     "text": [
      " 27%|██▋       | 4/15 [03:08<08:40, 47.33s/it]"
     ]
    },
    {
     "name": "stdout",
     "output_type": "stream",
     "text": [
      "Epoch: 4, Training Loss: 465.0545349121094, Validation Loss: 729.5169067382812\n"
     ]
    },
    {
     "name": "stderr",
     "output_type": "stream",
     "text": [
      " 33%|███▎      | 5/15 [03:55<07:52, 47.26s/it]"
     ]
    },
    {
     "name": "stdout",
     "output_type": "stream",
     "text": [
      "Epoch: 5, Training Loss: 370.6150207519531, Validation Loss: 657.8096313476562\n"
     ]
    },
    {
     "name": "stderr",
     "output_type": "stream",
     "text": [
      " 40%|████      | 6/15 [04:41<07:01, 46.85s/it]"
     ]
    },
    {
     "name": "stdout",
     "output_type": "stream",
     "text": [
      "Epoch: 6, Training Loss: 307.57354736328125, Validation Loss: 572.279541015625\n"
     ]
    },
    {
     "name": "stderr",
     "output_type": "stream",
     "text": [
      " 47%|████▋     | 7/15 [05:27<06:12, 46.61s/it]"
     ]
    },
    {
     "name": "stdout",
     "output_type": "stream",
     "text": [
      "Epoch: 7, Training Loss: 203.815185546875, Validation Loss: 519.3120727539062\n"
     ]
    },
    {
     "name": "stderr",
     "output_type": "stream",
     "text": [
      " 53%|█████▎    | 8/15 [06:13<05:24, 46.37s/it]"
     ]
    },
    {
     "name": "stdout",
     "output_type": "stream",
     "text": [
      "Epoch: 8, Training Loss: 395.2237548828125, Validation Loss: 490.17108154296875\n"
     ]
    },
    {
     "name": "stderr",
     "output_type": "stream",
     "text": [
      " 60%|██████    | 9/15 [06:58<04:34, 45.69s/it]"
     ]
    },
    {
     "name": "stdout",
     "output_type": "stream",
     "text": [
      "Epoch: 9, Training Loss: 316.6401062011719, Validation Loss: 484.99774169921875\n"
     ]
    },
    {
     "name": "stderr",
     "output_type": "stream",
     "text": [
      " 67%|██████▋   | 10/15 [07:44<03:48, 45.80s/it]"
     ]
    },
    {
     "name": "stdout",
     "output_type": "stream",
     "text": [
      "Epoch: 10, Training Loss: 218.77101135253906, Validation Loss: 483.43768310546875\n"
     ]
    },
    {
     "name": "stderr",
     "output_type": "stream",
     "text": [
      " 73%|███████▎  | 11/15 [08:30<03:03, 45.95s/it]"
     ]
    },
    {
     "name": "stdout",
     "output_type": "stream",
     "text": [
      "Epoch: 11, Training Loss: 239.8699493408203, Validation Loss: 482.2771911621094\n"
     ]
    },
    {
     "name": "stderr",
     "output_type": "stream",
     "text": [
      " 80%|████████  | 12/15 [09:16<02:18, 46.16s/it]"
     ]
    },
    {
     "name": "stdout",
     "output_type": "stream",
     "text": [
      "Epoch: 12, Training Loss: 186.79600524902344, Validation Loss: 484.1627502441406\n"
     ]
    },
    {
     "name": "stderr",
     "output_type": "stream",
     "text": [
      " 87%|████████▋ | 13/15 [10:04<01:33, 46.63s/it]"
     ]
    },
    {
     "name": "stdout",
     "output_type": "stream",
     "text": [
      "Epoch: 13, Training Loss: 110.7107925415039, Validation Loss: 482.7375793457031\n"
     ]
    },
    {
     "name": "stderr",
     "output_type": "stream",
     "text": [
      " 93%|█████████▎| 14/15 [10:50<00:46, 46.24s/it]"
     ]
    },
    {
     "name": "stdout",
     "output_type": "stream",
     "text": [
      "Epoch: 14, Training Loss: 252.91795349121094, Validation Loss: 483.4246520996094\n"
     ]
    },
    {
     "name": "stderr",
     "output_type": "stream",
     "text": [
      "100%|██████████| 15/15 [11:33<00:00, 46.23s/it]"
     ]
    },
    {
     "name": "stdout",
     "output_type": "stream",
     "text": [
      "Epoch: 15, Training Loss: 235.8640594482422, Validation Loss: 483.498779296875\n"
     ]
    },
    {
     "name": "stderr",
     "output_type": "stream",
     "text": [
      "\n"
     ]
    }
   ],
   "source": [
    "num_epochs = 15\n",
    "\n",
    "# Training loop\n",
    "for epoch in tqdm(range(num_epochs)):\n",
    "    # Set the model in training mode\n",
    "    model.train()\n",
    "    for i, data in enumerate(trainloader):\n",
    "        # print(i)\n",
    "        inp, exp = data\n",
    "    \n",
    "        # Forward pass\n",
    "        eps = .0000001\n",
    "        outputs = model(inp)\n",
    "        \n",
    "        # Now doing RMSE\n",
    "        # loss = torch.sqrt(criterion(outputs, exp) + eps)\n",
    "        loss = torch.sqrt(mse(outputs, exp) + eps)\n",
    "\n",
    "        # Backward pass and optimization\n",
    "        optimizer_adam.zero_grad()\n",
    "#         optimizer_sgd.zero_grad()\n",
    "        loss.backward()\n",
    "        optimizer_adam.step()\n",
    "#         optimizer_sgd.step()\n",
    "         \n",
    "    # Validation loop\n",
    "    model.eval()\n",
    "    for i, data in enumerate(valloader):\n",
    "        inp, exp = data\n",
    "        with torch.no_grad():\n",
    "            val_outputs = model(inp)\n",
    "            val_loss = torch.sqrt(mse(val_outputs, exp) + eps)            \n",
    "        \n",
    "    # Print the loss for each epoch\n",
    "    print(f\"Epoch: {epoch+1}, Training Loss: {loss.item()}, Validation Loss: {val_loss.item()}\") \n"
   ]
  },
  {
   "cell_type": "code",
   "execution_count": 106,
   "id": "dc60f290",
   "metadata": {},
   "outputs": [
    {
     "data": {
      "text/plain": [
       "tensor([685.1354, 685.7918, 685.9456, 685.9549, 686.1978, 686.2012, 686.3281,\n",
       "        686.3303, 686.3665, 686.3712, 686.3816], device='cuda:0')"
      ]
     },
     "execution_count": 106,
     "metadata": {},
     "output_type": "execute_result"
    }
   ],
   "source": [
    "val_outputs.unique()"
   ]
  },
  {
   "cell_type": "code",
   "execution_count": null,
   "id": "7b34f7b7",
   "metadata": {},
   "outputs": [],
   "source": [
    "exp"
   ]
  },
  {
   "cell_type": "code",
   "execution_count": null,
   "id": "5df262af",
   "metadata": {},
   "outputs": [],
   "source": []
  },
  {
   "cell_type": "code",
   "execution_count": null,
   "id": "fed26448",
   "metadata": {},
   "outputs": [],
   "source": [
    "criterion = nn.MSELoss()"
   ]
  },
  {
   "cell_type": "code",
   "execution_count": null,
   "id": "97200737",
   "metadata": {},
   "outputs": [],
   "source": []
  },
  {
   "cell_type": "code",
   "execution_count": null,
   "id": "45f9c391",
   "metadata": {},
   "outputs": [],
   "source": []
  },
  {
   "cell_type": "code",
   "execution_count": null,
   "id": "d2f22c0a",
   "metadata": {},
   "outputs": [],
   "source": []
  },
  {
   "cell_type": "code",
   "execution_count": null,
   "id": "24733bef",
   "metadata": {},
   "outputs": [],
   "source": [
    "import matplotlib.pyplot as plt\n",
    "import numpy as np\n",
    "t_plot = pd.DataFrame(t_loss)\n",
    "x, y = t_plot.index, t_plot.values\n",
    "a, b = np.polyfit(x, y, 1)\n",
    "plt.scatter(x = x, y = y)\n",
    "plt.plot(x, a*y+ b, color='red')"
   ]
  },
  {
   "cell_type": "code",
   "execution_count": null,
   "id": "a31f254a",
   "metadata": {},
   "outputs": [],
   "source": [
    "v_plot = pd.DataFrame(v_loss)\n",
    "x, y = v_plot.index, v_plot.values\n",
    "a, b = np.polyfit(x, y, 1)\n",
    "plt.scatter(x = x, y = y)\n",
    "plt.plot(x, a*y+ b, color='red')"
   ]
  },
  {
   "cell_type": "code",
   "execution_count": null,
   "id": "b5f61865",
   "metadata": {},
   "outputs": [],
   "source": [
    "t_ep_plot = pd.DataFrame(t_loss_ep)\n",
    "x, y = t_ep_plot.index, t_ep_plot.values\n",
    "a, b = np.polyfit(x, y, 1)\n",
    "plt.scatter(x = x, y = y)\n",
    "plt.plot(x, a*y+ b, color='red')"
   ]
  },
  {
   "cell_type": "code",
   "execution_count": null,
   "id": "bc134641",
   "metadata": {},
   "outputs": [],
   "source": [
    "v_ep_plot = pd.DataFrame(v_loss_ep)\n",
    "x, y = v_plot.index, v_plot.values\n",
    "a, b = np.polyfit(x, y, 1)\n",
    "plt.scatter(x = x, y = y)\n",
    "plt.plot(x, a*y+ b, color='red')"
   ]
  },
  {
   "cell_type": "code",
   "execution_count": null,
   "id": "0cb5007b",
   "metadata": {},
   "outputs": [],
   "source": []
  },
  {
   "cell_type": "code",
   "execution_count": null,
   "id": "6cbf462c",
   "metadata": {},
   "outputs": [],
   "source": []
  },
  {
   "cell_type": "code",
   "execution_count": null,
   "id": "69cadbec",
   "metadata": {},
   "outputs": [],
   "source": [
    "model.eval()"
   ]
  },
  {
   "cell_type": "code",
   "execution_count": null,
   "id": "17bc274a",
   "metadata": {},
   "outputs": [],
   "source": [
    "for i, data in enumerate(trainloader):\n",
    "        # print(i)\n",
    "        inp, exp = data\n",
    "    \n",
    "        # Forward pass\n",
    "        eps = 1e-6\n",
    "        outputs = model(inp)"
   ]
  },
  {
   "cell_type": "code",
   "execution_count": null,
   "id": "15709c55",
   "metadata": {},
   "outputs": [],
   "source": [
    "len(trainloader)\n"
   ]
  },
  {
   "cell_type": "code",
   "execution_count": null,
   "id": "5420ae7e",
   "metadata": {},
   "outputs": [],
   "source": [
    "outputs.unique()"
   ]
  },
  {
   "cell_type": "code",
   "execution_count": null,
   "id": "2a91af59",
   "metadata": {},
   "outputs": [],
   "source": [
    "test"
   ]
  },
  {
   "cell_type": "code",
   "execution_count": 107,
   "id": "c996b502",
   "metadata": {},
   "outputs": [],
   "source": [
    "test[[\"YR\", \"MON\", \"DAY\", \"HR\", \"WK\"]] = test[[\"TIMESTAMP\"]].apply(parse_time, axis=1, result_type=\"expand\")\n",
    "\n",
    "encoded_test_data = encoder.transform(test[['CALL_TYPE']])\n",
    "test_oh = pd.concat([test, pd.DataFrame(encoded_test_data, columns=column_names)], axis=1)\n",
    "\n",
    "test_ftrs = test_oh[['TRIP_ID', 'CALL_TYPE_B', 'CALL_TYPE_C', 'ORIGIN_STAND', 'MON', 'DAY', 'WK', 'HR']].fillna(-1)\n",
    "trip_ids = test_ftrs['TRIP_ID']  # Save trip IDs for later\n",
    "\n",
    "\n",
    "test_tn = torch.tensor(test_ftrs.drop(columns='TRIP_ID').values, dtype=torch.float32).view(len(test_ftrs), 1, num_ftrs).to(device)\n",
    "testloader = torch.utils.data.DataLoader(test_tn, batch_size=16, shuffle=False)\n",
    "\n",
    "model.eval()\n",
    "predictions = []\n",
    "for i, data in enumerate(testloader):\n",
    "    with torch.no_grad():\n",
    "        outputs = model(data)\n",
    "    predictions.extend(outputs.squeeze(1).cpu().numpy())\n",
    "    \n",
    "for i in range(len(predictions)):\n",
    "    predictions[i] = predictions[i][0]\n",
    "\n",
    "submission = pd.DataFrame({'TRIP_ID': trip_ids, 'TRAVEL_TIME': predictions})\n",
    "submission.to_csv('submission_ld.csv', index=False)\n"
   ]
  },
  {
   "cell_type": "code",
   "execution_count": 108,
   "id": "e341331a",
   "metadata": {},
   "outputs": [
    {
     "data": {
      "text/plain": [
       "686.5262"
      ]
     },
     "execution_count": 108,
     "metadata": {},
     "output_type": "execute_result"
    }
   ],
   "source": [
    "max(set(predictions))"
   ]
  },
  {
   "cell_type": "code",
   "execution_count": 109,
   "id": "c44754e9",
   "metadata": {},
   "outputs": [
    {
     "data": {
      "text/plain": [
       "{677.4716,\n",
       " 677.7735,\n",
       " 678.62054,\n",
       " 684.8905,\n",
       " 685.1354,\n",
       " 685.32056,\n",
       " 685.32715,\n",
       " 685.3839,\n",
       " 685.3875,\n",
       " 685.5089,\n",
       " 685.5347,\n",
       " 685.5987,\n",
       " 685.6524,\n",
       " 685.65906,\n",
       " 685.7005,\n",
       " 685.71576,\n",
       " 685.71936,\n",
       " 685.743,\n",
       " 685.746,\n",
       " 685.7496,\n",
       " 685.77313,\n",
       " 685.7797,\n",
       " 685.80634,\n",
       " 685.8938,\n",
       " 685.90375,\n",
       " 685.95416,\n",
       " 685.96075,\n",
       " 686.02106,\n",
       " 686.04767,\n",
       " 686.0512,\n",
       " 686.07733,\n",
       " 686.108,\n",
       " 686.11237,\n",
       " 686.15204,\n",
       " 686.1653,\n",
       " 686.17194,\n",
       " 686.2558,\n",
       " 686.26245,\n",
       " 686.2926,\n",
       " 686.29333,\n",
       " 686.31915,\n",
       " 686.3463,\n",
       " 686.34937,\n",
       " 686.35254,\n",
       " 686.35297,\n",
       " 686.3765,\n",
       " 686.383,\n",
       " 686.3831,\n",
       " 686.4067,\n",
       " 686.41327,\n",
       " 686.423,\n",
       " 686.4368,\n",
       " 686.453,\n",
       " 686.50616,\n",
       " 686.5108,\n",
       " 686.5254,\n",
       " 686.5262}"
      ]
     },
     "execution_count": 109,
     "metadata": {},
     "output_type": "execute_result"
    }
   ],
   "source": [
    "set(predictions)"
   ]
  },
  {
   "cell_type": "code",
   "execution_count": null,
   "id": "c1b04099",
   "metadata": {},
   "outputs": [],
   "source": []
  }
 ],
 "metadata": {
  "kernelspec": {
   "display_name": "Python 3 (clean)",
   "language": "python",
   "name": "python3_clean"
  },
  "language_info": {
   "codemirror_mode": {
    "name": "ipython",
    "version": 3
   },
   "file_extension": ".py",
   "mimetype": "text/x-python",
   "name": "python",
   "nbconvert_exporter": "python",
   "pygments_lexer": "ipython3",
   "version": "3.9.5"
  }
 },
 "nbformat": 4,
 "nbformat_minor": 5
}
